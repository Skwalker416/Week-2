{
 "cells": [
  {
   "cell_type": "code",
   "execution_count": null,
   "metadata": {},
   "outputs": [],
   "source": [
    "# Import required libraries\n",
    "import psycopg2\n",
    "import pandas as pd\n"
   ]
  },
  {
   "cell_type": "code",
   "execution_count": null,
   "metadata": {},
   "outputs": [],
   "source": [
    "# PostgreSQL connection setup\n",
    "DB_CONFIG = {\n",
    "    \"dbname\": \"your_database_name\",\n",
    "    \"user\": \"your_user_name\",\n",
    "    \"password\": \"your_password\",\n",
    "    \"host\": \"localhost\",\n",
    "    \"port\": \"5432\"\n",
    "}"
   ]
  },
  {
   "cell_type": "code",
   "execution_count": null,
   "metadata": {},
   "outputs": [],
   "source": [
    "# Connect to the PostgreSQL database\n",
    "def connect_to_db(config):\n",
    "    try:\n",
    "        conn = psycopg2.connect(**config)\n",
    "        print(\"Database connection successful.\")\n",
    "        return conn\n",
    "    except Exception as e:\n",
    "        print(f\"Error: {e}\")\n",
    "        return None"
   ]
  },
  {
   "cell_type": "code",
   "execution_count": null,
   "metadata": {},
   "outputs": [],
   "source": [
    "\n",
    "# Fetch data from a given table\n",
    "def fetch_data(conn, query):\n",
    "    try:\n",
    "        df = pd.read_sql(query, conn)\n",
    "        print(\"Data fetched successfully.\")\n",
    "        return df\n",
    "    except Exception as e:\n",
    "        print(f\"Error: {e}\")\n",
    "        return None"
   ]
  },
  {
   "cell_type": "code",
   "execution_count": null,
   "metadata": {},
   "outputs": [],
   "source": [
    "# Main process\n",
    "if __name__ == \"__main__\":\n",
    "    conn = connect_to_db(DB_CONFIG)\n",
    "\n",
    "    if conn:\n",
    "        # Example: Fetching all records from user_data\n",
    "        query = \"SELECT * FROM user_data;\"\n",
    "        df = fetch_data(conn, query)\n",
    "\n",
    "        if df is not None:\n",
    "            print(\"Sample Data:\")\n",
    "            print(df.head())\n",
    "\n",
    "        conn.close()"
   ]
  }
 ],
 "metadata": {
  "kernelspec": {
   "display_name": "Python 3",
   "language": "python",
   "name": "python3"
  },
  "language_info": {
   "codemirror_mode": {
    "name": "ipython",
    "version": 3
   },
   "file_extension": ".py",
   "mimetype": "text/x-python",
   "name": "python",
   "nbconvert_exporter": "python",
   "pygments_lexer": "ipython3",
   "version": "3.10.11"
  }
 },
 "nbformat": 4,
 "nbformat_minor": 2
}
